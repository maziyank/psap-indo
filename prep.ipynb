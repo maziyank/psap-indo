{
 "cells": [
  {
   "cell_type": "code",
   "execution_count": 53,
   "metadata": {},
   "outputs": [
    {
     "name": "stdout",
     "output_type": "stream",
     "text": [
      "Setiap entitas pelaporan mempunyai kewajiban untuk melaporkan upaya-upaya yang telah dilakukan serta hasil yang dicapai dalam pelaksanaan kegiatan secara sistematis dan terstruktur pada suatu periode pelaporan untuk kepentingan: \n",
      "<ol class=\"custom-list\">\n",
      "<li>Akuntabilitas Mempertanggungjawabkan pengelolaan sumber daya serta pelaksanaan kebijakan yang dipercayakan kepada entitas pelaporan dalam mencapai tujuan yang telah ditetapkan secara periodik. </li>\n",
      "<li>Manajemen Membantu para pengguna untuk mengevaluasi pelaksanaan kegiatan suatu entitas pelaporan dalam periode pelaporan sehingga memudahkan fungsi perencanaan, pengelolaan dan pengendalian atas seluruh aset, kewajiban, dan ekuitas pemerintah untuk kepentingan masyarakat. </li>\n",
      "<li>Transparansi Memberikan informasi keuangan yang terbuka dan jujur kepada masyarakat berdasarkan pertimbangan bahwa masyarakat memiliki hak untuk mengetahui secara terbuka dan menyeluruh atas pertanggungjawaban pemerintah dalam pengelolaan sumber daya yang dipercayakan kepadanya dan ketaatannya pada peraturan perundang-undangan. </li>\n",
      "<li>Keseimbangan antar Generasi (intergenerational equity) Membantu para pengguna dalam mengetahui kecukupan penerimaan pemerintah pada periode pelaporan untuk membiayai seluruh pengeluaran yang dialokasikan dan apakah generasi yang akan datang diasumsikan akan ikut menanggung beban pengeluaran tersebut.   </li>\n",
      "<li>Evaluasi Kinerja Mengevaluasi kinerja entitas pelaporan, terutama dalam penggunaan sumber daya ekonomi yang dikelola pemerintah untuk mencapai kinerja yang direncanakan. </li>\n",
      "</ol>\n"
     ]
    }
   ],
   "source": [
    "import regex as re\n",
    "import clipboard\n",
    "\n",
    "def rapikan():\n",
    "    text = input()\n",
    "    text = re.sub(r\"(?<=:\\s+)\\([a-z]\\)\\s?\",'\\n<ol class=\"custom-list\">\\n<li>', text)\n",
    "    text = re.sub(r\"(?<!:\\s)\\([a-z]\\)\\s?\",\"</li>\\n<li>\", text)\n",
    "    text += \"</li>\\n</ol>\"\n",
    "    # clipboard.copy(text)\n",
    "    print(text)\n",
    "\n",
    "rapikan()"
   ]
  },
  {
   "cell_type": "code",
   "execution_count": null,
   "metadata": {},
   "outputs": [],
   "source": []
  }
 ],
 "metadata": {
  "interpreter": {
   "hash": "07509d6f5ad49c9a41916f49a714ca0fd80e38c49fdd6cba3d869d53cf2fde99"
  },
  "kernelspec": {
   "display_name": "Python 3.9.7 ('base')",
   "language": "python",
   "name": "python3"
  },
  "language_info": {
   "codemirror_mode": {
    "name": "ipython",
    "version": 3
   },
   "file_extension": ".py",
   "mimetype": "text/x-python",
   "name": "python",
   "nbconvert_exporter": "python",
   "pygments_lexer": "ipython3",
   "version": "3.9.7"
  },
  "orig_nbformat": 4
 },
 "nbformat": 4,
 "nbformat_minor": 2
}
